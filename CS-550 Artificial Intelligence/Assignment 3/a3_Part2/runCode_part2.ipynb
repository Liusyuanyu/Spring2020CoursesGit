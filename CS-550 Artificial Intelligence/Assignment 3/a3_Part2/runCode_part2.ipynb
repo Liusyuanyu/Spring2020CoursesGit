{
 "cells": [
  {
   "cell_type": "code",
   "execution_count": null,
   "metadata": {},
   "outputs": [],
   "source": [
    "# %run -i \"D:\\Courses\\2020 Spring (Processing)\\CS-550 Artificial Intelligence\\Assignments\\Assignment 3\\a3_Part2\\drive02.py\""
   ]
  },
  {
   "cell_type": "code",
   "execution_count": 76,
   "metadata": {},
   "outputs": [],
   "source": [
    "# from tileboard import TileBoard\n",
    "import importlib\n",
    "import driver02\n",
    "# importlib.reload(driver02)"
   ]
  },
  {
   "cell_type": "markdown",
   "metadata": {},
   "source": [
    "# Test functions"
   ]
  },
  {
   "cell_type": "code",
   "execution_count": 81,
   "metadata": {},
   "outputs": [
    {
     "data": {
      "text/plain": "0.22503318283625587"
     },
     "execution_count": 81,
     "metadata": {},
     "output_type": "execute_result"
    }
   ],
   "source": [
    "# derivative((3,4,5))\n",
    "# polyval([4, 0, 9, 3], 5)\n",
    "\n",
    "# NewtonRaphson([4, 0, 9, 3], 5)\n",
    "# NewtonRaphson( [7, 3, -5, 32, -7], -50)\n",
    "NewtonRaphson( [7, 3, -5, 32, -7], 5)  \n"
   ]
  }
 ],
 "metadata": {
  "kernelspec": {
   "display_name": "Python 3",
   "language": "python",
   "name": "python3"
  },
  "language_info": {
   "codemirror_mode": {
    "name": "ipython",
    "version": 3
   },
   "file_extension": ".py",
   "mimetype": "text/x-python",
   "name": "python",
   "nbconvert_exporter": "python",
   "pygments_lexer": "ipython3",
   "version": "3.7.5-final"
  }
 },
 "nbformat": 4,
 "nbformat_minor": 2
}