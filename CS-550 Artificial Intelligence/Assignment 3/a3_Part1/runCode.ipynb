{
 "cells": [
  {
   "cell_type": "code",
   "execution_count": null,
   "metadata": {},
   "outputs": [],
   "source": [
    "# 2020 Spring (Processing)/CS-550 Artificial Intelligence/Assignments/Assignment 1/N-PuzzleBoard/driver.py"
   ]
  },
  {
   "cell_type": "code",
   "execution_count": null,
   "metadata": {},
   "outputs": [],
   "source": [
    "# %run -i \"D:\\Courses\\2020 Spring (Processing)\\CS-550 Artificial Intelligence\\Assignments\\Assignment 3\\a3_Part1\\newtonraphson.py\""
   ]
  },
  {
   "cell_type": "code",
   "execution_count": 1,
   "metadata": {},
   "outputs": [
    {
     "data": {
      "text/plain": [
       "<module 'tileboard' from 'D:\\\\Courses\\\\2020 Spring (Processing)\\\\CS-550 Artificial Intelligence\\\\Assignments\\\\Assignment 1\\\\N-PuzzleBoard\\\\tileboard.py'>"
      ]
     },
     "execution_count": 1,
     "metadata": {},
     "output_type": "execute_result"
    }
   ],
   "source": [
    "# from tileboard import TileBoard\n",
    "import importlib\n",
    "import tileboard\n",
    "from tileboard import TileBoard\n",
    "importlib.reload(tileboard)"
   ]
  },
  {
   "cell_type": "code",
   "execution_count": 73,
   "metadata": {},
   "outputs": [],
   "source": [
    "def NewtonRaphson(fpoly, a, tolerance = .00001): \n",
    "    \"\"\"Given a set of polynomial coefficients fpoly \n",
    "    for a univariate polynomial function, \n",
    "    e.g. (3, 6, 0, -24) for 3x^3 + 6x^2 +0x^1 -24x^0, \n",
    "    find the real roots of the polynomial (if any)  \n",
    "    using the Newton-Raphson method. \n",
    " \n",
    "    a is the initial estimate of the root and  \n",
    "    starting state of the search \n",
    " \n",
    "    This is an iterative method that stops when the \n",
    "    change in estimators is less than tolerance.    \n",
    "    \"\"\" \n",
    "    # x0 = a\n",
    "    # fpoly_prime = derivative(fpoly)\n",
    "    # x1 = x0 - polyval(fpoly,x0)/polyval(fpoly_prime,x0)  \n",
    "    # if abs(x1-x0) <=tolerance:\n",
    "    #     return x1\n",
    "    # else:\n",
    "    #     return NewtonRaphson(fpoly, x1, tolerance=tolerance)\n",
    "\n",
    "    x0 = a\n",
    "    fpoly_prime = derivative(fpoly)\n",
    "    change = polyval(fpoly,x0)/polyval(fpoly_prime,x0) \n",
    "    # x1 = x0 - polyval(fpoly,x0)/polyval(fpoly_prime,x0) \n",
    "    while(abs(change) > tolerance):\n",
    "        change = polyval(fpoly,x0)/polyval(fpoly_prime,x0) \n",
    "        x0 = x0 - change\n",
    "        # x1 = x0 - polyval(fpoly,x0)/polyval(fpoly_prime,x0) \n",
    "    return x0\n"
   ]
  },
  {
   "cell_type": "code",
   "execution_count": 20,
   "metadata": {},
   "outputs": [],
   "source": [
    "def polyval(fpoly, x): \n",
    "    \"\"\"polyval(fpoly, x) \n",
    "    Given a set of polynomial coefficients from highest order to x^0, \n",
    "    compute the value of the polynomial at x.  We assume zero  \n",
    "    coefficients are present in the coefficient list/tuple. \n",
    " \n",
    "    Example:  f(x) = 4x^3 + 0x^2 + 9x^1 + 3 evaluated at x=5 \n",
    "    polyval([4, 0, 9, 3], 5)) \n",
    "    returns 548 \n",
    "    \"\"\" \n",
    "    power = len(fpoly)-1\n",
    "    value = 0\n",
    "    for num in fpoly:\n",
    "        value += num* x ** power\n",
    "        power -=1\n",
    "    return value"
   ]
  },
  {
   "cell_type": "code",
   "execution_count": 33,
   "metadata": {},
   "outputs": [],
   "source": [
    "def derivative(fpoly): \n",
    "    \"\"\"derivative(fpoly) \n",
    "    Given a set of polynomial coefficients from highest order to x^0, \n",
    "    compute the derivative polynomial.  We assume zero coefficients \n",
    "    are present in the coefficient list/tuple. \n",
    " \n",
    "    Returns polynomial coefficients for the derivative polynomial. \n",
    "    Example: \n",
    "    derivative((3,4,5))  # 3 * x**2 + 4 * x**1 + 5 * x**0 \n",
    "    returns:  [6, 4]     # 6 * x**1 + 4 * x**0 \n",
    "    \"\"\" \n",
    "    power = len(fpoly)-1\n",
    "    prime_fpoly = []\n",
    "    fpoly = fpoly[:-1]\n",
    "    for num in fpoly:\n",
    "        prime_fpoly.append(num*power)\n",
    "        power -=1\n",
    "    return prime_fpoly"
   ]
  },
  {
   "cell_type": "markdown",
   "metadata": {},
   "source": [
    "# Test functions"
   ]
  },
  {
   "cell_type": "code",
   "execution_count": 74,
   "metadata": {},
   "outputs": [
    {
     "data": {
      "text/plain": "-2.0215593427748706"
     },
     "execution_count": 74,
     "metadata": {},
     "output_type": "execute_result"
    }
   ],
   "source": [
    "# derivative((3,4,5))\n",
    "# polyval([4, 0, 9, 3], 5)\n",
    "\n",
    "# NewtonRaphson([4, 0, 9, 3], 5)\n",
    "NewtonRaphson( [7, 3, -5, 32, -7], -50)\n",
    "# NewtonRaphson( [7, 3, -5, 32, -7], 5)  "
   ]
  },
  {
   "cell_type": "markdown",
   "metadata": {},
   "source": [
    "## Using built-in functions"
   ]
  },
  {
   "cell_type": "code",
   "execution_count": 71,
   "metadata": {},
   "outputs": [
    {
     "name": "stdout",
     "output_type": "stream",
     "text": "The value of the root is :  -2.02156\n"
    }
   ],
   "source": [
    "# newtonRaphson(5)\n",
    "newtonRaphson(-50)"
   ]
  },
  {
   "cell_type": "code",
   "execution_count": 70,
   "metadata": {},
   "outputs": [],
   "source": [
    "# def func( x ): \n",
    "#     return x * x * x - x * x + 2\n",
    "  \n",
    "# # Derivative of the above function  \n",
    "# # which is 3*x^x - 2*x \n",
    "# def derivFunc( x ): \n",
    "#     return 3 * x * x - 2 * x \n",
    "\n",
    "\n",
    "# [7, 3, -5, 32, -7], 5\n",
    "def func( x ): \n",
    "    return 7*x **4 + 3*x**3 - 5*x**2 + 32*x -7\n",
    "  \n",
    "def derivFunc( x ): \n",
    "    return 28*x **3 + 9*x**2 - 10*x**1 + 32\n",
    "\n",
    "def newtonRaphson( x ): \n",
    "    h = func(x) / derivFunc(x) \n",
    "    while abs(h) >= 0.00001: \n",
    "        h = func(x)/derivFunc(x) \n",
    "        # x(i+1) = x(i) - f(x) / f'(x) \n",
    "        x = x - h \n",
    "      \n",
    "    print(\"The value of the root is : \",\"%.5f\"% x)\n",
    "\n",
    "# newtonRaphson(5)"
   ]
  }
 ],
 "metadata": {
  "kernelspec": {
   "display_name": "Python 3",
   "language": "python",
   "name": "python3"
  },
  "language_info": {
   "codemirror_mode": {
    "name": "ipython",
    "version": 3
   },
   "file_extension": ".py",
   "mimetype": "text/x-python",
   "name": "python",
   "nbconvert_exporter": "python",
   "pygments_lexer": "ipython3",
   "version": "3.7.5-final"
  }
 },
 "nbformat": 4,
 "nbformat_minor": 2
}