{
 "cells": [
  {
   "cell_type": "code",
   "execution_count": null,
   "metadata": {},
   "outputs": [],
   "source": [
    "# %run -i \"D:\\Courses\\2020 Spring (Processing)\\CS-550 Artificial Intelligence\\Assignments\\Assignment 1\\N-PuzzleBoard\\driver.py\""
   ]
  },
  {
   "cell_type": "code",
   "execution_count": null,
   "metadata": {},
   "outputs": [],
   "source": [
    "# 2020 Spring (Processing)/CS-550 Artificial Intelligence/Assignments/Assignment 1/N-PuzzleBoard/driver.py"
   ]
  },
  {
   "cell_type": "code",
   "execution_count": null,
   "metadata": {},
   "outputs": [],
   "source": [
    "%run -i \"D:\\Courses\\2020 Spring (Processing)\\CS-550 Artificial Intelligence\\Assignments\\Assignment 1\\N-PuzzleBoard\\driver.py\""
   ]
  },
  {
   "cell_type": "code",
   "execution_count": 1,
   "metadata": {},
   "outputs": [
    {
     "data": {
      "text/plain": [
       "<module 'tileboard' from 'D:\\\\Courses\\\\2020 Spring (Processing)\\\\CS-550 Artificial Intelligence\\\\Assignments\\\\Assignment 1\\\\N-PuzzleBoard\\\\tileboard.py'>"
      ]
     },
     "execution_count": 1,
     "metadata": {},
     "output_type": "execute_result"
    }
   ],
   "source": [
    "# from tileboard import TileBoard\n",
    "import importlib\n",
    "import tileboard\n",
    "from tileboard import TileBoard\n",
    "importlib.reload(tileboard)"
   ]
  },
  {
   "cell_type": "code",
   "execution_count": 7,
   "metadata": {},
   "outputs": [
    {
     "data": {
      "text/plain": [
       "False"
      ]
     },
     "execution_count": 7,
     "metadata": {},
     "output_type": "execute_result"
    }
   ],
   "source": [
    "board = TileBoard(8, multiple_solutions=True)\n",
    "board.solved()\n",
    "\n",
    "\n",
    "# board.state_tuple()"
   ]
  },
  {
   "cell_type": "code",
   "execution_count": null,
   "metadata": {},
   "outputs": [],
   "source": [
    "import random\n",
    "\n",
    "mylist = list(range(1,8,1))\n",
    "mylist +=[None]\n",
    "random.shuffle(mylist)\n",
    "\n",
    "print(mylist) "
   ]
  },
  {
   "cell_type": "code",
   "execution_count": null,
   "metadata": {},
   "outputs": [],
   "source": [
    "sol_list = []\n",
    "if(not True):\n",
    "    for ind in range(9):\n",
    "        tile_list = list(range(1,9,1))\n",
    "        tile_list.insert(ind,None)\n",
    "        sol_list += [tile_list]\n",
    "else:\n",
    "    tile_list = list(range(1,9,1))\n",
    "    tile_list +=[None]\n",
    "    sol_list += [tile_list]\n",
    "\n",
    "#     sol_list = list(range(1,9,1))\n",
    "#     sol_list +=[None]\n",
    "sol_list"
   ]
  },
  {
   "cell_type": "code",
   "execution_count": null,
   "metadata": {},
   "outputs": [],
   "source": [
    "#Create a initial tileboard\n",
    "is_solvable = False\n",
    "tile_list = list(range(1,9,1))\n",
    "tile_list +=[None]\n",
    "# while(not is_solvable):\n",
    "#     random.shuffle(tile_list)\n",
    "\n",
    "random.shuffle(tile_list)\n",
    "tile_list"
   ]
  },
  {
   "cell_type": "code",
   "execution_count": null,
   "metadata": {},
   "outputs": [],
   "source": [
    "solvable(tile_list)\n",
    "# solvable(sol_list)"
   ]
  },
  {
   "cell_type": "code",
   "execution_count": null,
   "metadata": {},
   "outputs": [],
   "source": [
    "def __eq__(other):\n",
    "    if(len(sol_list)==1):\n",
    "        return sol_list[0] == other\n",
    "    else:\n",
    "        for sol in sol_list:\n",
    "            if sol == other:\n",
    "                return True\n",
    "        return False\n",
    "    \n",
    "# __eq__(tile_list)\n",
    "__eq__([1, 2, 3, 4, 5, 6, 7, 8, None])\n",
    "# len(sol_list)"
   ]
  },
  {
   "cell_type": "code",
   "execution_count": null,
   "metadata": {},
   "outputs": [],
   "source": [
    "def solvable(tiles, verbose=False):\n",
    "    inversionorder = 0\n",
    "    # Make life easy, remove None\n",
    "    reduced = [t for t in tiles if t is not None]\n",
    "    # Loop over all but last (no tile after it)\n",
    "    for idx in range(len(reduced)-1):\n",
    "        value = reduced[idx]\n",
    "        after = reduced[idx+1:]  # Remaining tiles\n",
    "        smaller = [x for x in after if x < value]\n",
    "        numtiles = len(smaller)\n",
    "        inversionorder = inversionorder + numtiles\n",
    "        if verbose:\n",
    "            print(\"idx {} value {} tail {} #smaller {} sum: {}\".format(\n",
    "                idx, value, after, numtiles, inversionorder))\n",
    "\n",
    "    # Even number of rows must take the blank position into account\n",
    "    if 3 % 2 == 0:\n",
    "        if verbose:\n",
    "            print(\"Even # rows, adding for position of blank\")\n",
    "        inversionorder = inversionorder + \\\n",
    "            math.floor(tiles.index(None) / self.boardsize)+1\n",
    "\n",
    "    solvable = inversionorder % 2 == 0  # Solvable if even\n",
    "    return solvable"
   ]
  },
  {
   "cell_type": "code",
   "execution_count": null,
   "metadata": {},
   "outputs": [
    {
     "name": "stdout",
     "output_type": "stream",
     "text": [
      "      0        1        2    \n",
      "0     6        8        3    \n",
      "1     7        4        1    \n",
      "2     5        2        .    \n",
      "Valid actions (delta row, delta col): \n",
      "a: (-1, 0).  b: (0, -1).  \n"
     ]
    }
   ],
   "source": [
    "# %run -i \"D:\\Courses\\2020 Spring (Processing)\\CS-550 Artificial Intelligence\\Assignments\\Assignment 1\\KevinvCode\\CS550\\N-PuzzleBoard\\driver.py\"\n",
    "\n",
    "%run -i \"D:\\Courses\\2020 Spring (Processing)\\CS-550 Artificial Intelligence\\Assignments\\Assignment 1\\N-PuzzleBoard\\driver.py\""
   ]
  }
 ],
 "metadata": {
  "kernelspec": {
   "display_name": "Python 3",
   "language": "python",
   "name": "python3"
  },
  "language_info": {
   "codemirror_mode": {
    "name": "ipython",
    "version": 3
   },
   "file_extension": ".py",
   "mimetype": "text/x-python",
   "name": "python",
   "nbconvert_exporter": "python",
   "pygments_lexer": "ipython3",
   "version": "3.7.1"
  }
 },
 "nbformat": 4,
 "nbformat_minor": 2
}
