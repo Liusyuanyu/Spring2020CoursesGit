{
 "cells": [
  {
   "cell_type": "code",
   "execution_count": null,
   "metadata": {},
   "outputs": [],
   "source": [
    "# %run -i \"D:\\Courses\\2020 Spring (Processing)\\CS-550 Artificial Intelligence\\Assignments\\Assignment 5\\sudoku\\driver.py\"\n"
   ]
  },
  {
   "cell_type": "markdown",
   "execution_count": null,
   "metadata": {},
   "outputs": [],
   "source": [
    "# Import packages"
   ]
  },
  {
   "cell_type": "code",
   "execution_count": 2,
   "metadata": {},
   "outputs": [],
   "source": [
    "from csp_lib.sudoku import (Sudoku, easy1, harder1)\n",
    "from csp_lib.backtrack_util import (first_unassigned_variable, unordered_domain_values, forward_checking, mrv)\n",
    "\n",
    "import constraint_prop as cp\n",
    "# from constraint_prop import AC3\n",
    "import backtrack as bt"
   ]
  },
  {
   "cell_type": "code",
   "execution_count": 9,
   "metadata": {},
   "outputs": [
    {
     "output_type": "execute_result",
     "data": {
      "text/plain": "<module 'backtrack' from 'd:\\\\Courses\\\\2020 Spring (Processing)\\\\CS-550 Artificial Intelligence\\\\Assignments\\\\Assignment 5\\\\sudoku\\\\backtrack.py'>"
     },
     "metadata": {},
     "execution_count": 9
    }
   ],
   "source": [
    "# # import driver02\n",
    "import importlib\n",
    "# importlib.reload(Sudoku)\n",
    "importlib.reload(cp)\n",
    "importlib.reload(bt)\n",
    ""
   ]
  },
  {
   "cell_type": "markdown",
   "execution_count": null,
   "metadata": {},
   "outputs": [],
   "source": [
    "# Arc consistency algorithm"
   ]
  },
  {
   "cell_type": "code",
   "execution_count": 3,
   "metadata": {},
   "outputs": [
    {
     "output_type": "stream",
     "name": "stdout",
     "text": ". . 3 | . 2 . | 6 . .\n9 . . | 3 . 5 | . . 1\n. . 1 | 8 . 6 | 4 . .\n------+-------+------\n. . 8 | 1 . 2 | 9 . .\n7 . . | . . . | . . 8\n. . 6 | 7 . 8 | 2 . .\n------+-------+------\n. . 2 | 6 . 9 | 5 . .\n8 . . | 2 . 3 | . . 9\n. . 5 | . 1 . | 3 . .\n"
    }
   ],
   "source": [
    "easy = Sudoku(easy1)\n",
    "easy.display(easy.infer_assignment())"
   ]
  },
  {
   "cell_type": "code",
   "execution_count": null,
   "metadata": {},
   "outputs": [],
   "source": [
    "hard = Sudoku(harder1)\n",
    "hard.display(hard.infer_assignment())"
   ]
  },
  {
   "cell_type": "code",
   "execution_count": 6,
   "metadata": {},
   "outputs": [
    {
     "output_type": "stream",
     "name": "stdout",
     "text": "4 8 3 | 9 2 1 | 6 5 7\n9 6 7 | 3 4 5 | 8 2 1\n2 5 1 | 8 7 6 | 4 9 3\n------+-------+------\n5 4 8 | 1 3 2 | 9 7 6\n7 2 9 | 5 6 4 | 1 3 8\n1 3 6 | 7 9 8 | 2 4 5\n------+-------+------\n3 7 2 | 6 8 9 | 5 1 4\n8 1 4 | 2 5 3 | 7 6 9\n6 9 5 | 4 1 7 | 3 8 2\n"
    },
    {
     "output_type": "execute_result",
     "data": {
      "text/plain": "True"
     },
     "metadata": {},
     "execution_count": 6
    }
   ],
   "source": [
    "result= cp.AC3(easy)\n",
    "# _= cp.AC3(easy)\n",
    "easy.display(easy.infer_assignment())\n",
    "\n",
    "# easy.display(result)\n",
    "easy.goal_test(easy.curr_domains)\n",
    "# result.curr_domains"
   ]
  },
  {
   "cell_type": "code",
   "execution_count": 8,
   "metadata": {},
   "outputs": [
    {
     "output_type": "stream",
     "name": "stdout",
     "text": "Hard initial status:\n4 1 7 | 3 6 9 | 8 . 5\n. 3 . | . . . | . . .\n. . . | 7 . . | . . .\n------+-------+------\n. 2 . | . . . | . 6 .\n. . . | . 8 . | 4 . .\n. . . | . 1 . | . . .\n------+-------+------\n. . . | 6 . 3 | . 7 .\n5 . . | 2 . . | . . .\n1 . 4 | . . . | . . .\n\nHard After AC3:\n4 1 7 | 3 6 9 | 8 2 5\n. 3 . | . . . | . . .\n. . . | 7 . . | . . .\n------+-------+------\n. 2 . | . . . | . 6 .\n. . . | . 8 . | 4 . .\n. . . | . 1 . | . . .\n------+-------+------\n. . . | 6 . 3 | . 7 .\n5 . . | 2 . . | . . .\n1 . 4 | . . . | . . .\n"
    },
    {
     "output_type": "execute_result",
     "data": {
      "text/plain": "True"
     },
     "metadata": {},
     "execution_count": 8
    }
   ],
   "source": [
    "importlib.reload(cp)\n",
    "hard = Sudoku(harder1)\n",
    "print('Hard initial status:')\n",
    "hard.display(hard.infer_assignment())\n",
    "\n",
    "# result= cp.AC3(hard)\n",
    "_= cp.AC3(hard)\n",
    "print('\\nHard After AC3:')\n",
    "hard.display(hard.infer_assignment())"
   ]
  },
  {
   "cell_type": "markdown",
   "metadata": {},
   "source": [
    "# Backtracking Algorithm"
   ],
   "execution_count": null,
   "outputs": []
  },
  {
   "cell_type": "code",
   "execution_count": null,
   "metadata": {
    "tags": [
     "outputPrepend",
     "outputPrepend"
    ]
   },
   "outputs": [],
   "source": [
    "importlib.reload(bt)\n",
    "\n",
    "easy = Sudoku(easy1)\n",
    "print('Easy initial status:')\n",
    "easy.display(easy.infer_assignment())\n",
    "\n",
    "# result= bt.backtracking_search(easy,select_unassigned_variable=mrv,inference=forward_checking)\n",
    "result= bt.backtracking_search(easy,select_unassigned_variable=first_unassigned_variable,inference=forward_checking)\n",
    "# result= bt.backtracking_search(easy,inference=forward_checking)\n",
    "# _= bt.backtracking_search(easy)\n",
    "\n",
    "print('\\nEasy After Backtracking:')\n",
    "# easy.display(easy.curr_domains)\n",
    "easy.display(result)\n",
    "\n",
    "# easy.curr_domains"
   ]
  },
  {
   "cell_type": "code",
   "execution_count": 12,
   "metadata": {},
   "outputs": [
    {
     "output_type": "stream",
     "name": "stdout",
     "text": "Hard initial status:\n4 1 7 | 3 6 9 | 8 . 5\n. 3 . | . . . | . . .\n. . . | 7 . . | . . .\n------+-------+------\n. 2 . | . . . | . 6 .\n. . . | . 8 . | 4 . .\n. . . | . 1 . | . . .\n------+-------+------\n. . . | 6 . 3 | . 7 .\n5 . . | 2 . . | . . .\n1 . 4 | . . . | . . .\n\nHard After Backtracking:\n4 1 7 | 3 6 9 | 8 2 5\n6 3 2 | 1 5 8 | 9 4 7\n9 5 8 | 7 2 4 | 3 1 6\n------+-------+------\n8 2 5 | 4 3 7 | 1 6 9\n7 9 1 | 5 8 6 | 4 3 2\n3 4 6 | 9 1 2 | 7 5 8\n------+-------+------\n2 8 9 | 6 4 3 | 5 7 1\n5 7 3 | 2 9 1 | 6 8 4\n1 6 4 | 8 7 5 | 2 9 3\n"
    },
    {
     "output_type": "execute_result",
     "data": {
      "text/plain": "True"
     },
     "metadata": {},
     "execution_count": 12
    }
   ],
   "source": [
    "importlib.reload(bt)\n",
    "hard = Sudoku(harder1)\n",
    "print('Hard initial status:')\n",
    "hard.display(hard.infer_assignment())\n",
    "\n",
    "# result= bt.backtracking_search(easy,inference=forward_checking)\n",
    "result= bt.backtracking_search(hard,select_unassigned_variable=mrv,inference=forward_checking)\n",
    "\n",
    "print('\\nHard After Backtracking:')\n",
    "hard.display(result)"
   ]
  },
  {
   "cell_type": "markdown",
   "metadata": {},
   "source": [
    "# Easy Anser"
   ],
   "execution_count": null,
   "outputs": []
  },
  {
   "cell_type": "code",
   "execution_count": null,
   "metadata": {},
   "outputs": [],
   "source": [
    "  4 8 3 | 9 2 1 | 6 5 7\n",
    "  9 6 7 | 3 4 5 | 8 2 1\n",
    "  2 5 1 | 8 7 6 | 4 9 3\n",
    "  ------+-------+------\n",
    "  5 4 8 | 1 3 2 | 9 7 6\n",
    "  7 2 9 | 5 6 4 | 1 3 8\n",
    "  1 3 6 | 7 9 8 | 2 4 5\n",
    "  ------+-------+------\n",
    "  3 7 2 | 6 8 9 | 5 1 4\n",
    "  8 1 4 | 2 5 3 | 7 6 9\n",
    "  6 9 5 | 4 1 7 | 3 8 2"
   ]
  },
  {
   "cell_type": "markdown",
   "metadata": {},
   "source": [
    "# Run driver.py"
   ],
   "execution_count": null,
   "outputs": []
  },
  {
   "cell_type": "code",
   "execution_count": null,
   "metadata": {},
   "outputs": [],
   "source": [
    "# %run -i \"D:\\Courses\\2020 Spring (Processing)\\CS-550 Artificial Intelligence\\Assignments\\Assignment 5\\sudoku\\driver.py\"\n",
    "\n",
    "%run -i \"driver.py\"\n",
    ""
   ]
  }
 ],
 "metadata": {
  "kernelspec": {
   "display_name": "Python 3",
   "language": "python",
   "name": "python3"
  },
  "language_info": {
   "codemirror_mode": {
    "name": "ipython",
    "version": 3
   },
   "file_extension": ".py",
   "mimetype": "text/x-python",
   "name": "python",
   "nbconvert_exporter": "python",
   "pygments_lexer": "ipython3",
   "version": "3.7.5-final"
  }
 },
 "nbformat": 4,
 "nbformat_minor": 2
}